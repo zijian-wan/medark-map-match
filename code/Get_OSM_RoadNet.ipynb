{
 "cells": [
  {
   "cell_type": "markdown",
   "source": [
    "# Get road network data from OSM"
   ],
   "metadata": {
    "collapsed": false
   }
  },
  {
   "cell_type": "code",
   "execution_count": null,
   "outputs": [],
   "source": [
    "import os\n",
    "\n",
    "import osmnx as ox"
   ],
   "metadata": {
    "collapsed": false
   }
  },
  {
   "cell_type": "code",
   "execution_count": null,
   "outputs": [],
   "source": [
    "proj_dir = \"<YOUR_PROJECT_DIRECTORY>\""
   ],
   "metadata": {
    "collapsed": false
   }
  },
  {
   "cell_type": "markdown",
   "source": [
    "## Ann Arbor\n",
    "In this extended study area of Ann Arbor, part of Detroit is included to generate more diverse synthetic trajectories."
   ],
   "metadata": {
    "collapsed": false
   }
  },
  {
   "cell_type": "code",
   "execution_count": null,
   "outputs": [],
   "source": [
    "# Extract road network graph\n",
    "north, south, east, west = 42.6678951, 42.1699611, -82.8784786, -83.8406760\n",
    "G = ox.graph_from_bbox(\n",
    "    bbox=(north, south, east, west), simplify=True, network_type=\"drive_service\"\n",
    ")\n",
    "\n",
    "# Add attributes\n",
    "G = ox.add_edge_speeds(G)\n",
    "G = ox.add_edge_travel_times(G)\n",
    "G = ox.add_edge_bearings(G)"
   ],
   "metadata": {
    "collapsed": false
   }
  },
  {
   "cell_type": "code",
   "execution_count": null,
   "outputs": [],
   "source": [
    "# Save graph\n",
    "graph_name = \"aa_road_graph_drive_service_bbox_time_speed_bearing.graphml\"\n",
    "ox.save_graphml(\n",
    "    G, os.path.join(proj_dir, graph_name), gephi=False\n",
    ")"
   ],
   "metadata": {
    "collapsed": false
   }
  },
  {
   "cell_type": "markdown",
   "source": [
    "## Los Angeles"
   ],
   "metadata": {
    "collapsed": false
   }
  },
  {
   "cell_type": "code",
   "execution_count": null,
   "outputs": [],
   "source": [
    "# Define the place name\n",
    "place_name = \"Los Angeles, California, USA\"\n",
    "# Download and construct the graph of the road network for the place\n",
    "G = ox.graph_from_place(place_name, network_type='drive')\n",
    "\n",
    "# Add attributes\n",
    "G = ox.add_edge_speeds(G)\n",
    "G = ox.add_edge_travel_times(G)\n",
    "G = ox.add_edge_bearings(G)"
   ],
   "metadata": {
    "collapsed": false
   }
  },
  {
   "cell_type": "code",
   "execution_count": null,
   "outputs": [],
   "source": [
    "# Save graph\n",
    "graph_name = \"la_road_graph_drive_service_bbox_time_speed_bearing.graphml\"\n",
    "ox.save_graphml(\n",
    "    G, os.path.join(proj_dir, graph_name), gephi=False\n",
    ")"
   ],
   "metadata": {
    "collapsed": false
   }
  }
 ],
 "metadata": {
  "kernelspec": {
   "display_name": "Python 3",
   "language": "python",
   "name": "python3"
  },
  "language_info": {
   "codemirror_mode": {
    "name": "ipython",
    "version": 2
   },
   "file_extension": ".py",
   "mimetype": "text/x-python",
   "name": "python",
   "nbconvert_exporter": "python",
   "pygments_lexer": "ipython2",
   "version": "2.7.6"
  }
 },
 "nbformat": 4,
 "nbformat_minor": 0
}
