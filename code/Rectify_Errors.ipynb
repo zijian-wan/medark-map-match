{
 "cells": [
  {
   "cell_type": "markdown",
   "source": [
    "# Rectify map-matching errors"
   ],
   "metadata": {
    "collapsed": false
   }
  },
  {
   "cell_type": "code",
   "execution_count": null,
   "outputs": [],
   "source": [
    "import os\n",
    "import copy\n",
    "import dill\n",
    "import pickle\n",
    "from tqdm import tqdm, trange\n",
    "\n",
    "import numpy as np\n",
    "import pandas as pd\n",
    "import seaborn as sns\n",
    "import matplotlib.pyplot as plt\n",
    "import matplotlib.transforms as mtransforms\n",
    "\n",
    "import osmnx as ox\n",
    "import geopandas as gpd\n",
    "from shapely.geometry import Point, LineString\n",
    "\n",
    "from rectify_shortestpath import rectify_shortest_path_avg_dist"
   ],
   "metadata": {
    "collapsed": false
   }
  },
  {
   "cell_type": "code",
   "execution_count": null,
   "outputs": [],
   "source": [
    "proj_dir = \"<YOUR_PROJECT_DIRECTORY>\"\n",
    "\n",
    "# Plot theme\n",
    "sns.set_theme()\n",
    "sns.set_context(\"paper\")"
   ],
   "metadata": {
    "collapsed": false
   }
  },
  {
   "cell_type": "markdown",
   "source": [
    "## Load datasets"
   ],
   "metadata": {
    "collapsed": false
   }
  },
  {
   "cell_type": "code",
   "execution_count": null,
   "outputs": [],
   "source": [
    "# Load road network graph\n",
    "graph_name = \"aa_road_graph_drive_service_bbox_time_speed_bearing.graphml\"  # Ann Arbor\n",
    "# graph_name = \"la_road_graph_drive_service_bbox_time_speed_bearing.graphml\"  # Los Angeles\n",
    "roadnet_graph = ox.load_graphml(os.path.join(proj_dir, graph_name))\n",
    "print(\"Road graph loaded! CRS:\", aa_driveservice_graph.graph[\"crs\"])"
   ],
   "metadata": {
    "collapsed": false
   }
  },
  {
   "cell_type": "markdown",
   "source": [
    "Project to UTM. Note that the zone should be consistent with the study area."
   ],
   "metadata": {
    "collapsed": false
   }
  },
  {
   "cell_type": "code",
   "execution_count": null,
   "outputs": [],
   "source": [
    "# Project to UTM 17N\n",
    "aa_graph_utm17n = ox.project_graph(roadnet_graph, to_crs=\"EPSG:32617\")  # WGS 84 / UTM zone 17N\n",
    "aa_graph_utm17n.graph[\"crs\"]"
   ],
   "metadata": {
    "collapsed": false
   }
  },
  {
   "cell_type": "code",
   "execution_count": null,
   "outputs": [],
   "source": [
    "# Load pickle\n",
    "pk_name = \"samp_pts_ls_stride2_labeled184.pkl\"\n",
    "with open(os.path.join(proj_dir, \"Data\", pk_name), 'rb') as my_file_obj:\n",
    "    samp_pts_ls = pickle.load(my_file_obj)\n",
    "\n",
    "print(\"Number of samples:\", len(samp_pts_ls))"
   ],
   "metadata": {
    "collapsed": false
   }
  },
  {
   "cell_type": "code",
   "execution_count": null,
   "outputs": [],
   "source": [
    "# Load pickle\n",
    "pk_name = \"labeled184_pts_traj_ptid.pkl\"\n",
    "with open(os.path.join(proj_dir, \"Data\", pk_name), 'rb') as my_file_obj:\n",
    "    pts_gdf, traj_ptid_ls = pickle.load(my_file_obj)\n",
    "\n",
    "print(\"Number of trajectories:\", len(traj_ptid_ls))\n",
    "print(\"Number of points:\", len(pts_gdf))\n",
    "pts_gdf.head()"
   ],
   "metadata": {
    "collapsed": false
   }
  },
  {
   "cell_type": "code",
   "execution_count": null,
   "outputs": [],
   "source": [
    "# Load pickle\n",
    "pk_name = \"probs_pred_labels_ls_allsampleset_stride2_labeled184_aa.pkl\"\n",
    "with open(\n",
    "    os.path.join(proj_dir, \"Data\", pk_name), 'rb'\n",
    ") as my_file_obj:\n",
    "    probs_ls, pred_labels_ls = pickle.load(my_file_obj)\n",
    "\n",
    "print(\"Number of samples:\", len(pred_labels_ls))"
   ],
   "metadata": {
    "collapsed": false
   }
  },
  {
   "cell_type": "markdown",
   "source": [
    "## Error rectification"
   ],
   "metadata": {
    "collapsed": false
   }
  },
  {
   "cell_type": "code",
   "execution_count": null,
   "outputs": [],
   "source": [
    "rect_traj_gdf_ls = []\n",
    "\n",
    "for sample_id in trange(len(err_seg_ls)):\n",
    "    rect_traj_gdf = rectify_shortest_path_avg_dist(sample_id, err_seg_ls, samp_trajs_gdf, subgraph_ls)\n",
    "    rect_traj_gdf_ls.append(rect_traj_gdf)\n",
    "\n",
    "rect_trajs_gdf = gpd.GeoDataFrame(\n",
    "    pd.concat(rect_traj_gdf_ls), crs=rect_traj_gdf_ls[0].crs\n",
    ")\n",
    "rect_trajs_gdf.head()"
   ],
   "metadata": {
    "collapsed": false
   }
  },
  {
   "cell_type": "code",
   "execution_count": null,
   "outputs": [],
   "source": [
    "# Save to pickle\n",
    "pk_name = f\"rect_trajs_gdf_stride2_labeled184_aa.pkl\"\n",
    "with open(\n",
    "    os.path.join(proj_dir, \"Data\", pk_name), 'wb'\n",
    ") as my_file_obj:\n",
    "    pickle.dump(rect_trajs_gdf, my_file_obj)"
   ],
   "metadata": {
    "collapsed": false
   }
  },
  {
   "cell_type": "code",
   "execution_count": null,
   "outputs": [],
   "source": [
    "# Load pickle\n",
    "pk_name = f\"rect_trajs_gdf_stride2_labeled184_aa.pkl\"\n",
    "with open(\n",
    "    os.path.join(proj_dir, \"Data\", pk_name), 'rb'\n",
    ") as my_file_obj:\n",
    "    rect_trajs_gdf = pickle.load(my_file_obj)\n",
    "\n",
    "print(\"Number of rectified trajectories:\", len(rect_trajs_gdf))"
   ],
   "metadata": {
    "collapsed": false
   }
  },
  {
   "cell_type": "markdown",
   "source": [
    "## Visualization"
   ],
   "metadata": {
    "collapsed": false
   }
  },
  {
   "cell_type": "markdown",
   "source": [
    "### Sample subgraph"
   ],
   "metadata": {
    "collapsed": false
   }
  },
  {
   "cell_type": "code",
   "execution_count": null,
   "outputs": [],
   "source": [
    "from utils import sample_subgraph"
   ],
   "metadata": {
    "collapsed": false
   }
  },
  {
   "cell_type": "code",
   "execution_count": null,
   "outputs": [],
   "source": [
    "subgraph_ls = sample_subgraph(aa_graph_utm17n, samp_trajs_gdf, buffer_dist=500)"
   ],
   "metadata": {
    "collapsed": false
   }
  },
  {
   "cell_type": "code",
   "execution_count": null,
   "outputs": [],
   "source": [
    "# Save to pickle\n",
    "pk_name = f\"samp_trajs_gdf_subgraph_ls_stride2_labeled184_aa.dpk\"\n",
    "with open(\n",
    "    os.path.join(proj_dir, \"Data\", pk_name), 'wb'\n",
    ") as my_file_obj:\n",
    "    dill.dump([samp_trajs_gdf, subgraph_ls], my_file_obj)"
   ],
   "metadata": {
    "collapsed": false
   }
  },
  {
   "cell_type": "code",
   "execution_count": null,
   "outputs": [],
   "source": [
    "# Load pickle\n",
    "pk_name = f\"samp_trajs_gdf_subgraph_ls_stride2_labeled184_aa.dpk\"\n",
    "with open(\n",
    "    os.path.join(proj_dir, \"Data\", pk_name), 'rb'\n",
    ") as my_file_obj:\n",
    "    samp_trajs_gdf, subgraph_ls = dill.load(my_file_obj)\n",
    "\n",
    "print(\"Number of sample trajectories:\", len(samp_trajs_gdf))\n",
    "print(\"Number of sample subgraphs:\", len(subgraph_ls))"
   ],
   "metadata": {
    "collapsed": false
   }
  },
  {
   "cell_type": "markdown",
   "source": [
    "### Plot rectified trajectory on road network graph"
   ],
   "metadata": {
    "collapsed": false
   }
  },
  {
   "cell_type": "code",
   "execution_count": null,
   "outputs": [],
   "source": [
    "def plot_rect_traj(\n",
    "        sample_id, samp_trajs_gdf, pred_labels_ls, rect_trajs_gdf, fig=None, ax=None, figsize=None,\n",
    "        s=3, show_legend=False, legend_loc=\"best\", save_figure=False, save_dir=None, fig_name=f\"Sample.png\"\n",
    "):\n",
    "    if fig is None or ax is None:\n",
    "        if figsize is None:\n",
    "            fig, ax = plt.subplots()\n",
    "        else:\n",
    "            fig, ax = plt.subplots(figsize=figsize)\n",
    "\n",
    "    # Predicted labels of the sample\n",
    "    err_labels_arr = pred_labels_ls[sample_id].astype(bool)\n",
    "    # Coordinates of the original map-matched trajectory\n",
    "    samp_traj_gdf = samp_trajs_gdf.take([sample_id])\n",
    "    coords_df = samp_traj_gdf.get_coordinates()\n",
    "    # Error points\n",
    "    x_error = coords_df.loc[err_labels_arr, \"x\"]\n",
    "    y_error = coords_df.loc[err_labels_arr, \"y\"]\n",
    "    # Correct points\n",
    "    x_correct = coords_df.loc[~err_labels_arr, \"x\"]\n",
    "    y_correct = coords_df.loc[~err_labels_arr, \"y\"]\n",
    "\n",
    "    # Rectified coordinates\n",
    "    rect_traj_gdf = rect_trajs_gdf.take([sample_id])\n",
    "    rect_coords_df = rect_traj_gdf.get_coordinates()\n",
    "    # Rectified points\n",
    "    x_rect = rect_coords_df.loc[err_labels_arr, \"x\"]\n",
    "    y_rect = rect_coords_df.loc[err_labels_arr, \"y\"]\n",
    "\n",
    "    # Plot the points\n",
    "    ax.scatter(x_correct, y_correct, s=s, color='lime', marker='o', zorder=5, label=\"Correct point\")\n",
    "    ax.scatter(x_error, y_error, s=s, color='red', marker='o', zorder=5, label=\"Errorneous point\")\n",
    "    ax.scatter(x_rect, y_rect, s=s, color='dodgerblue', marker='o', zorder=5, label=\"Rectified point\")\n",
    "\n",
    "    # Original map-matched trajectory\n",
    "    samp_traj_gdf.plot(ax=ax, linewidth=1, color=\"navy\", linestyle='dashed', label=\"Error-containing trajectory\")\n",
    "    # Rectified trajectory\n",
    "    rect_traj_gdf.plot(ax=ax, linewidth=2, color=\"hotpink\", label=\"Rectified trajectory\")\n",
    "\n",
    "    # Road network graph\n",
    "    ox.plot_graph(subgraph_ls[sample_id], ax=ax, node_size=0) # Skip plotting the nodes\n",
    "\n",
    "    if show_legend:\n",
    "        ax.legend(loc=legend_loc)\n",
    "\n",
    "    if save_figure:\n",
    "        fig.savefig(os.path.join(proj_dir, save_dir, fig_name), dpi=800, bbox_inches='tight')\n",
    "\n",
    "    plt.show()"
   ],
   "metadata": {
    "collapsed": false
   }
  },
  {
   "cell_type": "code",
   "execution_count": null,
   "outputs": [],
   "source": [
    "sample_id = 8000\n",
    "plot_rect_traj(\n",
    "    sample_id, samp_trajs_gdf, pred_labels_ls, rect_trajs_gdf, figsize=(10, 11),\n",
    "    show_legend=True, legend_loc=\"lower right\", save_figure=True,\n",
    "    save_dir=\"<YOUR_SAVE_DIRECTION>>\", fig_name=f\"Rectify_Sample{sample_id}.png\"\n",
    ")"
   ],
   "metadata": {
    "collapsed": false
   }
  }
 ],
 "metadata": {
  "kernelspec": {
   "display_name": "Python 3",
   "language": "python",
   "name": "python3"
  },
  "language_info": {
   "codemirror_mode": {
    "name": "ipython",
    "version": 2
   },
   "file_extension": ".py",
   "mimetype": "text/x-python",
   "name": "python",
   "nbconvert_exporter": "python",
   "pygments_lexer": "ipython2",
   "version": "2.7.6"
  }
 },
 "nbformat": 4,
 "nbformat_minor": 0
}
